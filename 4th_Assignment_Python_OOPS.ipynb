{
  "nbformat": 4,
  "nbformat_minor": 0,
  "metadata": {
    "colab": {
      "provenance": []
    },
    "kernelspec": {
      "name": "python3",
      "display_name": "Python 3"
    },
    "language_info": {
      "name": "python"
    }
  },
  "cells": [
    {
      "cell_type": "markdown",
      "source": [
        "# OOPS ASSIGNMENT\n"
      ],
      "metadata": {
        "id": "6lA5D8A8_Jju"
      }
    },
    {
      "cell_type": "markdown",
      "source": [
        "1. What is Object-Oriented Programming (OOP)?\n",
        "\n",
        "Ans. Object-Oriented Programming (OOP) is a programming paradigm centered around the concept of \"objects,\" which can contain data in the form of fields (often referred to as attributes or properties) and code in the form of procedures (often referred to as methods). Think of it as a way to structure software design around these real-world-like entities.\n",
        "\n",
        "Instead of focusing purely on functions and procedures, OOP organizes programs by bundling together the data and the functions that operate on that data. This approach promotes several key principles:\n",
        " - Encapsulation: This is the idea of bundling data and the methods that operate on that data within a single unit, or \"object.\" It's like a protective shield that prevents outside code from directly accessing or modifying the internal data of an object. You interact with the object through its well-defined methods\n",
        "\n",
        " - Abstraction: Abstraction involves hiding complex implementation details and showing only the essential information to the user. Imagine driving a car – you know how to steer, accelerate, and brake, but you don't need to understand the intricate workings of the engine or transmission to operate it. Similarly, in OOP, you interact with objects through simplified interfaces without needing to know the underlying complexities.\n",
        "\n",
        " - Inheritance: This is a powerful mechanism that allows a new class (a blueprint for creating objects) to inherit properties and methods from an existing class (the parent or base class). This promotes code reusability and establishes \"is-a\" relationships between objects. For example, a \"Dog\" class can inherit from an \"Animal\" class, inheriting general animal characteristics while also having its own specific dog-like features\n",
        "\n",
        " - Polymorphism: This literally means \"many forms.\" In OOP, polymorphism allows objects of different classes to respond to the same method call in their own specific way. Think of a \"makeSound\" method – a \"Dog\" object would bark, a \"Cat\" object would meow, and a \"Bird\" object would chirp, each implementing the \"makeSound\" behavior uniquely.\n"
      ],
      "metadata": {
        "id": "PPc9K53W_OYa"
      }
    },
    {
      "cell_type": "markdown",
      "source": [
        "2. What is a class in OOP?\n",
        "\n",
        "Ans.  A class! In the world of Object-Oriented Programming, a class is like a blueprint or a template for creating objects. Think of it as a cookie cutter – the cookie cutter itself isn't a cookie, but it defines the shape and characteristics of the cookies you can make.\n",
        "\n",
        "Similarly, a class defines the attributes (data) and behaviors (methods or functions) that objects of that class will have. It's a logical grouping of data and the code that operates on that data."
      ],
      "metadata": {
        "id": "-G450hyS_-Sx"
      }
    },
    {
      "cell_type": "markdown",
      "source": [
        "3.What is an object in OOP?\n",
        "\n",
        "Ans. In OOP, an object is an instance of a class. Think of a class as a blueprint, and an object as a specific instance created based on that blueprint. For example, if you have a class called \"Dog,\" you can create multiple objects like \"myDog\" and \"yourDog,\" each representing a unique dog with its own specific characteristics (name, breed, age, etc.) and behaviors (barking, fetching, playing, etc.)."
      ],
      "metadata": {
        "id": "F0eVh7A0ATjn"
      }
    },
    {
      "cell_type": "markdown",
      "source": [],
      "metadata": {
        "id": "bpwkuuXoA37x"
      }
    },
    {
      "cell_type": "markdown",
      "source": [
        "4.  What is the difference between abstraction and encapsulation?\n",
        "\n",
        "Ans.  let's break down the difference between abstraction and encapsulation in Object-Oriented Programming (OOP).\n",
        "\n",
        "While both concepts aim to manage complexity and improve code organization, they do so in distinct ways:\n",
        "\n",
        "Abstraction:\n",
        "\n",
        "- Focus: Hiding complex implementation details and presenting a simplified view to the user.\n",
        "\n",
        "- How it works: It focuses on \"what\" an object does rather than \"how\" it does it. You interact with an object through its essential functionalities, without needing to know the internal workings.\n",
        "\n",
        "\n",
        "Encapsulation:\n",
        "\n",
        "- Focus: Bundling data (attributes) and the methods that operate on that data within a single unit (object), protecting it from outside access or modification.\n",
        "\n",
        "- How it works: It creates a \"protective shield\" around an object's internal state, preventing direct access to its data from external code. You interact with the object through its defined methods, ensuring controlled access and modifications\n",
        "\n",
        "Analogy:\n",
        "\n",
        "Imagine a TV remote. Abstraction allows you to use the buttons to change channels, volume, etc., without needing to understand the complex electronics inside. Encapsulation protects the internal circuits and components from accidental damage or tampering, ensuring you interact with the TV through the designated interface (the remote)."
      ],
      "metadata": {
        "id": "o099U5f1A5no"
      }
    },
    {
      "cell_type": "markdown",
      "source": [
        "5.  What are dunder methods in Python?\n",
        "\n",
        "Ans. That's a fun term in Python. The word \"dunder\" is short for \"double underscore\" because these special methods have double underscores both at the beginning and at the end of their names (like __init__ or __str__).\n",
        "\n",
        "⚓ In Python, dunder methods (also sometimes called magic methods) are special methods that allow your classes to interact with Python's built-in functions, operators, and language constructs. They give you the ability to define how your objects behave in various situations\n",
        "\n",
        "⚓ Think of them as hooks that you can implement in your classes to customize their behavior. When you use a built-in function or an operator on an object of your class, Python looks for the corresponding dunder method defined in that class and executes it."
      ],
      "metadata": {
        "id": "H9gWR97IB4MT"
      }
    },
    {
      "cell_type": "markdown",
      "source": [
        "6.  Explain the concept of inheritance in OOP.\n",
        "\n",
        "Ans.  inheritance! This is a fundamental and incredibly useful concept in Object-Oriented Programming. Think of it as a way to create new classes based on existing ones, inheriting their properties and behaviors. It's like biological inheritance, where a child inherits traits from its parents.\n",
        "\n",
        "In OOP, the class that is being inherited from is called the parent class, base class, or superclass. The new class that inherits from the parent class is called the child class, derived class, or subclass.\n",
        "\n",
        "In essence, inheritance promotes a hierarchical structure in your code, making it more organized, reusable, and adaptable to future changes and additions. It's a powerful tool for modeling real-world relationships and building robust and scalable software"
      ],
      "metadata": {
        "id": "tBNrVoXXCicf"
      }
    },
    {
      "cell_type": "markdown",
      "source": [
        "7.  What is polymorphism in OOP?\n",
        "\n",
        "Ans. , polymorphism! This is another cornerstone of Object-Oriented Programming, and it's a really powerful concept that adds flexibility and extensibility to your code. The word \"polymorphism\" literally means \"many forms.\" In OOP, it refers to the ability of objects of different classes to respond to the same method call in their own specific way.\n",
        "\n",
        "In essence, polymorphism allows you to treat objects of different types in a consistent manner, while still allowing them to exhibit their own unique behaviors. It's a key ingredient in building robust, adaptable, and object-oriented software."
      ],
      "metadata": {
        "id": "uyIRHKVsDNyh"
      }
    },
    {
      "cell_type": "markdown",
      "source": [
        "8.  How is encapsulation achieved in Python?\n",
        "\n",
        "Ans. Encapsulation in Object-Oriented Programming is all about bundling the data (attributes) and the methods that operate on that data within a single unit, which is a class. It also involves controlling the access to the internal data of an object to prevent direct modification from outside the object.\n",
        "\n",
        "Encapsulation in Object-Oriented Programming is all about bundling the data (attributes) and the methods that operate on that data within a single unit, which is a class. It also involves controlling the access to the internal data of an object to prevent direct modification from outside the object.\n",
        "\n",
        "Python achieves encapsulation through a combination of conventions and language features, although it's important to note that Python's approach is more about \"we are all consenting adults\" rather than strict access modifiers like in some other languages (e.g., private, protected in Java or C++)."
      ],
      "metadata": {
        "id": "40s7V8l8DnIp"
      }
    },
    {
      "cell_type": "markdown",
      "source": [
        "9. What is a constructor in Python?\n",
        "\n",
        "Ans. The constructor! In Python, a constructor is a special method within a class that gets automatically called when you create a new object (an instance) of that class. Its primary purpose is to initialize the object's attributes or perform any other setup that's needed when an object is created.\n",
        "\n",
        "The constructor in Python is always named __init__ (that's with double underscores before and after \"init\").\n",
        "\n",
        "So, the constructor (__init__) is crucial for setting up the initial state of an object when it's created, making sure it has the necessary attributes and is ready to be used."
      ],
      "metadata": {
        "id": "GEs5ayLDD7dV"
      }
    },
    {
      "cell_type": "markdown",
      "source": [
        "10.  What are class and static methods in Python?\n",
        "\n",
        "Ans.  class methods and static methods in Python. These are special kinds of methods that are bound to a class rather than to a specific instance of a class. This means you can call them on the class itself, without needing to create an object first.\n",
        "\n",
        "1. Class Methods:\n",
        "\n",
        "- Bound to the Class: A class method is bound to the class and not the instance of the class.\n",
        "\n",
        "- cls Parameter: The first parameter of a class method is conventionally named cls (short for \"class\"). This parameter automatically refers to the class itself when the method is called.\n",
        "\n",
        "- @classmethod Decorator: You define a class method using the @classmethod decorator just above the method definition.\n",
        "\n",
        "- Access Class Attributes: Class methods can access and modify class-level attributes. These are attributes that belong to the class itself and are shared among all instances of the class\n",
        "\n",
        "- Factory Methods: A common use case for class methods is to implement factory methods. These are alternative constructors that can create instances of the class in different ways or based on specific criteria.\n",
        "\n",
        "Here's an example:\n",
        "\n"
      ],
      "metadata": {
        "id": "F-6NnKI9EW-3"
      }
    },
    {
      "cell_type": "code",
      "source": [
        "class Employee:\n",
        "    num_of_employees = 0\n",
        "    raise_amount = 1.04\n",
        "\n",
        "    def __init__(self, first, last, pay):\n",
        "        self.first = first\n",
        "        self.last = last\n",
        "        self.pay = pay\n",
        "        Employee.num_of_employees += 1\n",
        "\n",
        "    def full_name(self):\n",
        "        return f\"{self.first} {self.last}\"\n",
        "\n",
        "    def apply_raise(self):\n",
        "        self.pay = int(self.pay * self.raise_amount)\n",
        "\n",
        "    @classmethod\n",
        "    def set_raise_amount(cls, amount):\n",
        "        cls.raise_amount = amount\n",
        "\n",
        "    @classmethod\n",
        "    def from_string(cls, emp_str):\n",
        "        first, last, pay = emp_str.split('-')\n",
        "        return cls(first, last, int(pay))\n",
        "\n",
        "    @staticmethod\n",
        "    def is_workday(day):\n",
        "        if day.weekday() == 5 or day.weekday() == 6:\n",
        "            return False\n",
        "        return True\n",
        "\n",
        "import datetime\n",
        "my_date = datetime.date(2025, 4, 25) # Friday\n",
        "print(Employee.is_workday(my_date)) # Output: True\n",
        "\n",
        "Employee.set_raise_amount(1.05)\n",
        "print(Employee.raise_amount) # Output: 1.05\n",
        "\n",
        "emp_str_1 = \"John-Doe-60000\"\n",
        "new_emp_1 = Employee.from_string(emp_str_1)\n",
        "print(new_emp_1.full_name()) # Output: John Doe\n",
        "print(new_emp_1.pay) # Output: 60000"
      ],
      "metadata": {
        "colab": {
          "base_uri": "https://localhost:8080/"
        },
        "id": "ztL5i0e4FEhW",
        "outputId": "870d2785-0acd-4e68-e7fc-989e3d8c754f"
      },
      "execution_count": null,
      "outputs": [
        {
          "output_type": "stream",
          "name": "stdout",
          "text": [
            "True\n",
            "1.05\n",
            "John Doe\n",
            "60000\n"
          ]
        }
      ]
    },
    {
      "cell_type": "markdown",
      "source": [
        "2. Static Methods:\n",
        "\n",
        "- Loosely Related to the Class: A static method is bound to the class but doesn't automatically receive the class or the instance as its first argument. It's essentially a regular function that belongs to the class's namespace because it has a logical connection to the class.\n",
        "\n",
        "- No Special First Parameter: Static methods do not have self or cls as their first parameter.\n",
        "\n",
        "- @staticmethod Decorator: You define a static method using the @staticmethod decorator.\n",
        "\n",
        "- Cannot Access Instance-Specific or Class-Specific Attributes Directly: Because they don't receive the instance or the class implicitly, static methods cannot directly access instance attributes (like self.first) or class attributes (like cls.raise_amount) without explicitly passing them as arguments.\n",
        "\n",
        "- Utility Functions: Static methods are often used for utility functions that are related to the class's purpose but don't need to know anything about the class or its instances"
      ],
      "metadata": {
        "id": "lh9bns_mFS6a"
      }
    },
    {
      "cell_type": "markdown",
      "source": [
        "11. What is method overloading in Python?\n",
        "\n",
        "Ans.  This is a concept that often comes up when discussing object-oriented programming, especially if you have experience with languages like Java or C++. In those languages, method overloading refers to the ability to define multiple methods within the same class that have the same name but different parameter lists (different number of parameters, different types of parameters, or both). The compiler then determines which method to call based on the arguments passed during the method invocation.\n",
        "\n",
        "In Python, if you define multiple methods in the same class with the same name, the last definition will simply overwrite the earlier ones. So, if you try to define two my_method functions with different parameters, only the one defined last will be the one that's actually associated with the class.\n",
        "\n",
        "Instead of traditional method overloading, Python achieves flexibility in handling different numbers or types of arguments in a single method"
      ],
      "metadata": {
        "id": "67h9i4sDFlYK"
      }
    },
    {
      "cell_type": "markdown",
      "source": [
        "12.  What is method overriding in OOP?\n",
        "\n",
        "Ans.  This is a crucial concept in Object-Oriented Programming, especially when you're dealing with inheritance. It allows a subclass (child class) to provide a specific implementation for a method that is already defined in its superclass (parent class).\n",
        "\n",
        "Think of it like this: your parent has a certain way of doing a task (a method), but you, as the child, want to do that same task in a slightly different or more specialized way. Method overriding lets you do just that.\n",
        "\n",
        "- Let's illustrate with an example using our Animal, Dog, and Cat classes\n"
      ],
      "metadata": {
        "id": "J2oXp7tGGFkq"
      }
    },
    {
      "cell_type": "code",
      "source": [
        "class Animal:\n",
        "    def makeSound(self):\n",
        "        print(\"Generic animal sound\")\n",
        "\n",
        "class Dog(Animal):\n",
        "    def makeSound(self):\n",
        "        print(\"Woof!\")\n",
        "\n",
        "class Cat(Animal):\n",
        "    def makeSound(self):\n",
        "        print(\"Meow!\")\n",
        "\n",
        "def animal_speaks(animal):\n",
        "    animal.makeSound()\n",
        "\n",
        "generic_animal = Animal()\n",
        "my_dog = Dog()\n",
        "my_cat = Cat()\n",
        "\n",
        "animal_speaks(generic_animal) # Output: Generic animal sound\n",
        "animal_speaks(my_dog)        # Output: Woof!\n",
        "animal_speaks(my_cat)        # Output: Meow!"
      ],
      "metadata": {
        "colab": {
          "base_uri": "https://localhost:8080/"
        },
        "id": "CP9tQAkZGlyq",
        "outputId": "eba85e2b-9c4e-44a1-e2e2-76747db4b777"
      },
      "execution_count": null,
      "outputs": [
        {
          "output_type": "stream",
          "name": "stdout",
          "text": [
            "Generic animal sound\n",
            "Woof!\n",
            "Meow!\n"
          ]
        }
      ]
    },
    {
      "cell_type": "markdown",
      "source": [
        "13.  What is a property decorator in Python?\n",
        "\n",
        "Ans. The @property decorator in Python! This is a fantastic feature that allows you to define class attributes in a way that provides controlled access to them, often by using getter, setter, and deleter methods, while still allowing them to be accessed like regular attributes. It's a powerful tool for achieving encapsulation and adding logic around attribute access without breaking the intuitive syntax of attribute access.\n",
        "\n",
        "Think of @property as a way to wrap method calls behind attribute access. When you try to get the value of a \"property,\" you're actually calling a method (the getter). When you try to set it, you're calling another method (the setter), and when you try to delete it, you're calling yet another (the deleter).\n",
        "\n",
        "The most common use of @property is to define a getter method for an attribute. This allows you to perform some logic (like calculation or formatting) when the attribute's value is retrieved.\n",
        "\n",
        "Example"
      ],
      "metadata": {
        "id": "pWqUIgPmGpLX"
      }
    },
    {
      "cell_type": "code",
      "source": [
        "class Circle:\n",
        "    def __init__(self, radius):\n",
        "        self._radius = radius  # Use an underscore to indicate it's intended for internal use\n",
        "\n",
        "    @property\n",
        "    def radius(self):\n",
        "        \"\"\"Get the radius of the circle.\"\"\"\n",
        "        return self._radius\n",
        "\n",
        "    @property\n",
        "    def area(self):\n",
        "        \"\"\"Calculate and get the area of the circle.\"\"\"\n",
        "        return 3.14159 * self._radius**2\n",
        "\n",
        "c = Circle(5)\n",
        "print(c.radius)  # Accessing the 'radius' property (calls the getter method)\n",
        "print(c.area)    # Accessing the 'area' property (calls the getter method)"
      ],
      "metadata": {
        "colab": {
          "base_uri": "https://localhost:8080/"
        },
        "id": "C9xllsyDHGnF",
        "outputId": "c94f8bf1-8311-4ba7-a86b-716fb11bc954"
      },
      "execution_count": null,
      "outputs": [
        {
          "output_type": "stream",
          "name": "stdout",
          "text": [
            "5\n",
            "78.53975\n"
          ]
        }
      ]
    },
    {
      "cell_type": "markdown",
      "source": [
        "In essence, the @property decorator provides a clean and Pythonic way to manage attribute access in your classes, enhancing encapsulation and flexibility. It allows you to treat method calls like attribute access, making your code more readable and maintainable."
      ],
      "metadata": {
        "id": "zByzj_jUHOmz"
      }
    },
    {
      "cell_type": "markdown",
      "source": [
        "14. Why is polymorphism important in OOP?\n",
        "\n",
        "Ans.  Polymorphism! Given our recent discussion, you've got a good foundation. Let's solidify why it's so darn important in Object-Oriented Programming.\n",
        "\n",
        "Polymorphism isn't just a fancy term; it's a fundamental principle that brings significant advantages to software design and development:\n",
        "\n",
        "1.  Flexibility and Extensibility:\n",
        "\n",
        "  -  Write Once, Use Many: Polymorphism allows you to write code that can work with objects of different classes without needing to know their specific1 type at compile time. As long as these classes share a common interface (e.g., through inheritance or by implementing the same methods), your code can treat them uniformly. This makes your code more adaptable to new types of objects that might be added in the future. You don't have to rewrite existing code every time you introduce a new class.\n",
        "\n",
        "\n",
        "  2.  Code Reusability:\n",
        "\n",
        "   -   Common Interfaces: By defining common methods in a superclass or interface, you can create a consistent way for different objects to interact. This allows you to reuse algorithms and logic across various object types.\n",
        "\n",
        "\n",
        "\n",
        "   3.  Maintainability:\n",
        "\n",
        "     -  Loose Coupling: Polymorphism helps to decouple different parts of your system. Code that depends on an abstract interface rather than concrete implementations is less tightly bound to specific classes. This means that changes in one class are less likely to break other parts of the system.\n",
        "\n",
        "\n",
        "     \n",
        "\n",
        "   \n",
        "  \n",
        "\n",
        "\n"
      ],
      "metadata": {
        "id": "QgOTQlJZHPwR"
      }
    },
    {
      "cell_type": "markdown",
      "source": [
        "15. What is an abstract class in Python?\n",
        "\n",
        "Ans. Abstract classes! These are a fascinating concept in Object-Oriented Programming that helps you define a blueprint for other classes. Think of an abstract class as a template that specifies certain methods that its subclasses must implement. You can't create objects directly from an abstract class itself; it's meant to be inherited from.\n",
        "\n",
        "In Python, you create abstract classes using the abc (Abstract Base Classes) module. Here's how it works:\n",
        "\n",
        "1. Import ABC and abstractmethod: You need to import these from the abc module. ABC is a metaclass that helps you define abstract base classes, and @abstractmethod is a decorator you use to declare abstract methods within the class.\n",
        "\n",
        "2. Inherit from ABC: Your class should inherit from abc.ABC to become an abstract base class.\n",
        "\n",
        "3. Declare Abstract Methods: Any method decorated with @abstractmethod within an abstract class is considered an abstract method. An abstract method has a declaration but no implementation in the abstract class.\n",
        "\n",
        "4. Concrete Subclasses Must Implement Abstract Methods: If a concrete (non-abstract) subclass inherits from an abstract class, it must provide an implementation for all the abstract methods defined in the superclass. If it doesn't, the subclass will also be considered an abstract class, and you won't be able to instantiate it.\n",
        "\n",
        "5. Abstract Classes Cannot Be Instantiated: You cannot create direct instances (objects) of an abstract class. They are meant to be a blueprint for their subclasses.\n",
        "\n",
        "Example:"
      ],
      "metadata": {
        "id": "tGXmOXOtIb0Q"
      }
    },
    {
      "cell_type": "code",
      "source": [
        "from abc import ABC, abstractmethod\n",
        "\n",
        "class Shape(ABC):  # Shape is an abstract base class\n",
        "    @abstractmethod\n",
        "    def area(self):\n",
        "        pass  # No implementation in the abstract class\n",
        "\n",
        "    @abstractmethod\n",
        "    def perimeter(self):\n",
        "        pass  # No implementation in the abstract class\n",
        "\n",
        "    def describe(self):\n",
        "        print(\"This is a shape.\")\n",
        "\n",
        "class Rectangle(Shape):  # Concrete subclass of Shape\n",
        "    def __init__(self, width, height):\n",
        "        self.width = width\n",
        "        self.height = height\n",
        "\n",
        "    def area(self):\n",
        "        return self.width * self.height\n",
        "\n",
        "    def perimeter(self):\n",
        "        return 2 * (self.width + self.height)\n",
        "\n",
        "class Circle(Shape):  # Another concrete subclass of Shape\n",
        "    def __init__(self, radius):\n",
        "        self.radius = radius\n",
        "\n",
        "    def area(self):\n",
        "        return 3.14159 * self.radius**2\n",
        "\n",
        "    def perimeter(self):\n",
        "        return 2 * 3.14159 * self.radius\n",
        "\n",
        "# Trying to create an instance of the abstract class will raise a TypeError\n",
        "# my_shape = Shape()  # TypeError: Can't instantiate abstract class Shape with abstract methods area, perimeter\n",
        "\n",
        "my_rectangle = Rectangle(5, 10)\n",
        "print(f\"Rectangle area: {my_rectangle.area()}\")       # Output: Rectangle area: 50\n",
        "print(f\"Rectangle perimeter: {my_rectangle.perimeter()}\") # Output: Rectangle perimeter: 30\n",
        "my_rectangle.describe()                               # Output: This is a shape.\n",
        "\n",
        "my_circle = Circle(7)\n",
        "print(f\"Circle area: {my_circle.area()}\")         # Output: Circle area: 153.93791\n",
        "print(f\"Circle perimeter: {my_circle.perimeter()}\") # Output: Circle perimeter: 43.98226\n",
        "my_circle.describe()                               # Output: This is a shape."
      ],
      "metadata": {
        "colab": {
          "base_uri": "https://localhost:8080/"
        },
        "id": "LC_ZM9OgJh6Y",
        "outputId": "008c3df0-6fcd-44b1-be49-c04a8ff96f00"
      },
      "execution_count": null,
      "outputs": [
        {
          "output_type": "stream",
          "name": "stdout",
          "text": [
            "Rectangle area: 50\n",
            "Rectangle perimeter: 30\n",
            "This is a shape.\n",
            "Circle area: 153.93791\n",
            "Circle perimeter: 43.98226\n",
            "This is a shape.\n"
          ]
        }
      ]
    },
    {
      "cell_type": "markdown",
      "source": [
        "16.  What are the advantages of OOP?\n",
        "\n",
        "Ans.  Object-Oriented Programming. Considering all the concepts we've discussed, here are the key advantages of OOP:\n",
        "\n",
        "- Modularity: OOP encourages breaking down a complex problem into smaller, self-contained units called objects. Each object encapsulates its own data and behavior. This makes the code easier to understand, develop, and debug because you can focus on individual objects without worrying too much about the entire system at once.\n",
        "\n",
        "- Code Reusability (through Inheritance): Inheritance allows you to create new classes based on existing ones, inheriting their attributes and methods. This avoids writing the same code multiple times, leading to more concise and maintainable code. You can build upon existing, well-tested code, saving time and effort.\n",
        "\n",
        "- Maintainability: Due to modularity and encapsulation, changes in one part of the program are less likely to affect other independent parts. This makes it easier to modify, update, and fix bugs in specific areas without disrupting the entire system.\n",
        "\n",
        "- Extensibility (through Inheritance and Polymorphism): OOP makes it easier to extend the functionality of a system. You can create new classes that inherit from existing ones and add new features or modify existing ones through method overriding. Polymorphism allows you to write code that can work with objects of different classes in a uniform way, making it easy to add new object types without altering existing code significantly.\n",
        "\n",
        "- Data Hiding and Security (through Encapsulation): Encapsulation allows you to control the access to the internal data of an object. By making attributes \"private\" (using naming conventions or name mangling in Python) and providing controlled access through methods (getters and setters, potentially using properties), you can protect the integrity of the data and prevent unintended modifications.\n",
        "\n",
        "- Abstraction: OOP allows you to hide complex implementation details and expose only the essential information to the user. This simplifies the interaction with objects and makes the code easier to understand and use. Users of an object don't need to know how it works internally, only what it does.\n",
        "\n",
        "- Flexibility (through Polymorphism): Polymorphism enables objects of different classes to respond to the same method call in their own specific way. This allows for more dynamic and adaptable code. You can treat different objects uniformly through their common interface while still allowing for specialized behavior.\n",
        "\n",
        "- Better Real-World Modeling: OOP often provides a more natural way to model real-world entities and their interactions. Objects in your code can directly correspond to objects in the problem domain, making the design more intuitive and easier to grasp.\n",
        "\n",
        "- Improved Collaboration: The modular nature of OOP makes it easier for teams of developers to work on different parts of a project simultaneously. Well-defined interfaces between objects facilitate integration and reduce dependencies.\n",
        "\n",
        "- Increased Productivity: By promoting code reuse, maintainability, and extensibility, OOP can ultimately lead to increased developer productivity and faster development cycles.\n",
        "\n",
        "- In essence, OOP provides a powerful paradigm for organizing and structuring software in a way that promotes robustness, flexibility, and maintainability. It helps in managing complexity and building scalable and adaptable systems."
      ],
      "metadata": {
        "id": "3HLgnO86Jl4e"
      }
    },
    {
      "cell_type": "markdown",
      "source": [
        "17.  What is the difference between a class variable and an instance variable?\n",
        "\n",
        "Ans.   A fundamental distinction in OOP! Let's break down the difference between class variables and instance variables:\n",
        "\n",
        "Instance Variables:\n",
        "\n",
        "- Belong to Individual Objects (Instances): Instance variables are specific to each object (instance) of a class. When you create a new object, it gets its own separate copy of the instance variables.\n",
        "Defined Within Methods (Usually __init__): They are typically defined inside the __init__ method (the constructor) using the self keyword. You can also define them in other instance methods.\n",
        "Unique to Each Object: The value of an instance variable can be different for each object of the same class. Each object maintains its own state through its instance variables.\n",
        "Accessed Using self: Within the class's methods, you access instance variables using self.variable_name. Outside the class, you access them using object_name.variable_name.\n",
        "\n",
        "\n",
        "Class Variables:\n",
        "\n",
        "- Belong to the Class Itself: Class variables are defined within the class but outside of any instance methods (including __init__). They are shared among all instances of the class.\n",
        "One Copy Shared by All Instances: There is only one copy of a class variable that is shared by all objects created from that class. If one instance modifies a class variable, the change will be reflected in all other instances.\n",
        "Accessed Using the Class Name or Instance Name: You can access class variables using the class name (e.g., ClassName.variable_name) or through an instance of the class (e.g., object_name.variable_name). However, be cautious when modifying through an instance (explained below).\n",
        "\n",
        "\n",
        "Analogy:\n",
        "\n",
        "- Imagine a cookie cutter (the class) and cookies made with it (the instances):\n",
        "\n",
        "- Instance Variables: These are like the decorations you put on each individual cookie (e.g., sprinkles, frosting color). Each cookie can have its own unique decorations.\n",
        "Class Variables: These are like the material the cookie cutter is made of (e.g., metal, plastic). All cookies made with that cutter share the same material.\n",
        "Example in Python:\n",
        "\n",
        "\n",
        "\n",
        "Example:"
      ],
      "metadata": {
        "id": "kN8p9erDKVWG"
      }
    },
    {
      "cell_type": "code",
      "source": [
        "class Dog:\n",
        "    # Class variable\n",
        "    species = \"Canis familiaris\"\n",
        "    tricks = []  # Another class variable (mutable - be careful!)\n",
        "\n",
        "    def __init__(self, name):\n",
        "        # Instance variable\n",
        "        self.name = name\n",
        "\n",
        "    def add_trick(self, trick):\n",
        "        self.tricks.append(trick) # This modifies the class-level 'tricks' list\n",
        "\n",
        "my_dog1 = Dog(\"Buddy\")\n",
        "my_dog2 = Dog(\"Lucy\")\n",
        "\n",
        "print(f\"{my_dog1.name}'s species: {my_dog1.species}\")   # Accessing class variable through instance\n",
        "print(f\"{my_dog2.name}'s species: {my_dog2.species}\")   # Accessing class variable through instance\n",
        "print(f\"Class species: {Dog.species}\")                 # Accessing class variable through class name\n",
        "\n",
        "my_dog1.species = \"Super Dog\"  # This creates a *new instance variable* for my_dog1\n",
        "print(f\"{my_dog1.name}'s species now: {my_dog1.species}\") # Output: Super Dog\n",
        "print(f\"{my_dog2.name}'s species still: {my_dog2.species}\") # Output: Canis familiaris\n",
        "print(f\"Class species still: {Dog.species}\")             # Output: Canis familiaris\n",
        "\n",
        "my_dog1.add_trick(\"fetch\")\n",
        "my_dog2.add_trick(\"roll over\")\n",
        "\n",
        "print(f\"{my_dog1.name}'s tricks: {my_dog1.tricks}\")   # Output: ['fetch', 'roll over']\n",
        "print(f\"{my_dog2.name}'s tricks: {my_dog2.tricks}\")   # Output: ['fetch', 'roll over']\n",
        "print(f\"Class tricks: {Dog.tricks}\")                 # Output: ['fetch', 'roll over']"
      ],
      "metadata": {
        "colab": {
          "base_uri": "https://localhost:8080/"
        },
        "id": "4xaPR0NDLI__",
        "outputId": "fe114c26-2e10-4488-ec44-735e3ffbc171"
      },
      "execution_count": null,
      "outputs": [
        {
          "output_type": "stream",
          "name": "stdout",
          "text": [
            "Buddy's species: Canis familiaris\n",
            "Lucy's species: Canis familiaris\n",
            "Class species: Canis familiaris\n",
            "Buddy's species now: Super Dog\n",
            "Lucy's species still: Canis familiaris\n",
            "Class species still: Canis familiaris\n",
            "Buddy's tricks: ['fetch', 'roll over']\n",
            "Lucy's tricks: ['fetch', 'roll over']\n",
            "Class tricks: ['fetch', 'roll over']\n"
          ]
        }
      ]
    },
    {
      "cell_type": "markdown",
      "source": [],
      "metadata": {
        "id": "tw5PT32vAmd7"
      }
    },
    {
      "cell_type": "markdown",
      "source": [
        "18. What is multiple inheritance in Python?\n",
        "\n",
        "Ans. Multiple inheritance in Python is a powerful feature that allows a class to inherit attributes and methods from more than one parent class. Think of it like a child inheriting traits from both their mother and their father.\n",
        "\n",
        "Here's a way to visualize it:\n",
        "\n",
        "\n",
        "      Parent Class A\n",
        "     /                \\\n",
        "    /                  \\\n",
        "   /                    \\\n",
        "Class C ---------------- Parent Class B\n",
        "\n",
        "\n",
        "In this scenario, Class C inherits from both Parent Class A and Parent Class B. This means Class C will have access to the methods and attributes defined in both parent classes.\n",
        "\n",
        "How it works in Python:\n",
        "\n",
        "You specify the parent classes in the class definition, separated by commas:\n",
        "\n",
        "EXAMPLE:"
      ],
      "metadata": {
        "id": "djFX5TQ-TktB"
      }
    },
    {
      "cell_type": "code",
      "source": [
        "class ParentA:\n",
        "    def method_a(self):\n",
        "        print(\"Method A from Parent A\")\n",
        "\n",
        "class ParentB:\n",
        "    def method_b(self):\n",
        "        print(\"Method B from Parent B\")\n",
        "\n",
        "class Child(ParentA, ParentB):\n",
        "    def method_c(self):\n",
        "        print(\"Method C from Child\")\n",
        "\n",
        "# Creating an instance of the Child class\n",
        "child_object = Child()\n",
        "child_object.method_a()  # Output: Method A from Parent A\n",
        "child_object.method_b()  # Output: Method B from Parent B\n",
        "child_object.method_c()  # Output: Method C from Child"
      ],
      "metadata": {
        "colab": {
          "base_uri": "https://localhost:8080/"
        },
        "id": "0ciKkcRyUFux",
        "outputId": "ecbae81a-f605-4014-867f-161d5f7d1f4e"
      },
      "execution_count": 6,
      "outputs": [
        {
          "output_type": "stream",
          "name": "stdout",
          "text": [
            "Method A from Parent A\n",
            "Method B from Parent B\n",
            "Method C from Child\n"
          ]
        }
      ]
    },
    {
      "cell_type": "markdown",
      "source": [
        "19.  Explain the purpose of ‘’__str__’ and ‘__repr__’ ‘ methods in Python.\n",
        "\n",
        "Ans. Ah, excellent question! Let's dive into the purpose of the __str__ and __repr__ methods in Python. They are both special methods (often called \"dunder\" methods because of their double underscores) used to provide string representations of objects, but they serve slightly different purposes.\n",
        "\n",
        "Think of it this way:\n",
        "\n",
        "- __str__ is like the informal, user-friendly way you'd want an object to be described to someone who isn't a developer. It aims for readability.\n",
        "- __repr__ is like the more formal, unambiguous way to represent an object, primarily for developers. Ideally, it should provide enough information to recreate the object.\n",
        "\n",
        "Let's break them down with examples:\n",
        "\n",
        "- __str__(self): The \"Informal\" String Representation\n",
        "\n",
        "Purpose: This method is called when you try to get a human-readable, informal string representation of an object. It's what you see when you use the print() function on an object or when you implicitly convert an object to a string using str().\n",
        "Goal: To be easily understandable by non-programmers or when you need a concise description of the object's state.\n",
        "\n",
        "Example:"
      ],
      "metadata": {
        "id": "5vXVUgLhUVNz"
      }
    },
    {
      "cell_type": "code",
      "source": [
        "class Point:\n",
        "    def __init__(self, x, y):\n",
        "        self.x = x\n",
        "        self.y = y\n",
        "\n",
        "    def __str__(self):\n",
        "        return f\"Point at coordinates ({self.x}, {self.y})\"\n",
        "\n",
        "p = Point(3, 5)\n",
        "print(p)       # Output: Point at coordinates (3, 5)\n",
        "print(str(p))  # Output: Point at coordinates (3, 5)"
      ],
      "metadata": {
        "colab": {
          "base_uri": "https://localhost:8080/"
        },
        "id": "ZZ6sUHdcUvSC",
        "outputId": "f241b86e-42e1-4841-d3b8-d8fac4daaec4"
      },
      "execution_count": 7,
      "outputs": [
        {
          "output_type": "stream",
          "name": "stdout",
          "text": [
            "Point at coordinates (3, 5)\n",
            "Point at coordinates (3, 5)\n"
          ]
        }
      ]
    },
    {
      "cell_type": "markdown",
      "source": [
        "In this case, __str__ provides a clear and simple description of the Point object's location.\n",
        "\n",
        "- __repr__(self): The \"Official\" String Representation\n",
        "\n",
        "Purpose:  This method is called when you need an unambiguous, developer-friendly string representation of an object. It's used by default in the Python interpreter when you inspect an object directly (without using print()) and is also used by the repr() function.\n",
        "\n",
        "Goal:  To provide a string that ideally allows you to recreate the object if possible (or at least gives detailed information about its internal state). It should be informative for debugging and development.\n",
        "\n",
        "Convention: A common convention is to make the __repr__ string look like the Python code needed to create the object.\n",
        "\n",
        "\n",
        "Example (Continuing the Point class):"
      ],
      "metadata": {
        "id": "snQSrimbU7fL"
      }
    },
    {
      "cell_type": "code",
      "source": [
        "class Point:\n",
        "    def __init__(self, x, y):\n",
        "        self.x = x\n",
        "        self.y = y\n",
        "\n",
        "    def __str__(self):\n",
        "        return f\"Point at coordinates ({self.x}, {self.y})\"\n",
        "\n",
        "    def __repr__(self):\n",
        "        return f\"Point(x={self.x}, y={self.y})\"\n",
        "\n",
        "p = Point(3, 5)\n",
        "print(repr(p))  # Output: Point(x=3, y=5)\n",
        "p             # Output in the interpreter: Point(x=3, y=5)"
      ],
      "metadata": {
        "colab": {
          "base_uri": "https://localhost:8080/"
        },
        "id": "1YqXWQJpVDkW",
        "outputId": "7bdcc9b1-0b27-489c-ca8f-c50a9b37e443"
      },
      "execution_count": 8,
      "outputs": [
        {
          "output_type": "stream",
          "name": "stdout",
          "text": [
            "Point(x=3, y=5)\n"
          ]
        },
        {
          "output_type": "execute_result",
          "data": {
            "text/plain": [
              "Point(x=3, y=5)"
            ]
          },
          "metadata": {},
          "execution_count": 8
        }
      ]
    },
    {
      "cell_type": "markdown",
      "source": [
        "20.  What is the significance of the ‘super()’ function in Python?\n",
        "\n",
        "Ans.  The super() function in Python is a cornerstone of working effectively with inheritance, especially in more complex class hierarchies involving multiple inheritance. Its primary significance lies in providing a clean and reliable way to call methods from parent classes.\n",
        "\n",
        "Let's break down its key purposes and why it's so important:\n",
        "\n",
        "1. Calling Methods from Parent Classes:\n",
        "\n",
        "The most fundamental use of super() is to invoke a method defined in a superclass (parent class) from within a subclass. This is particularly useful when you want to extend or modify the behavior of a parent class method in a subclass without completely rewriting it.\n",
        "\n",
        "\n",
        "2. Resolving the \"Diamond Problem\" in Multiple Inheritance:\n",
        "\n",
        "- As we discussed earlier, the \"diamond problem\" arises in multiple inheritance when a class inherits from two classes that share a common ancestor. Without super(), explicitly calling methods from parent classes in a specific order can become complex and lead to issues like a grandparent's method being called multiple times unintentionally.\n",
        "\n",
        "- super() in conjunction with the Method Resolution Order (MRO) elegantly solves this. It ensures that methods in the inheritance hierarchy are called in a consistent and predictable order, according to the MRO. This prevents the initialization or execution of methods from shared ancestors multiple times.\n",
        "\n",
        "\n",
        "3. Promoting Cooperative Multiple Inheritance:\n",
        "\n",
        "- super() encourages a more cooperative approach to multiple inheritance. Instead of a subclass directly calling a specific parent's method by name (which can be brittle if the inheritance structure changes), super() delegates the method call up the MRO. This makes the code more flexible and maintainable.\n",
        "\n",
        "4. Simplifying Initialization in Complex Hierarchies:\n",
        "\n",
        "- When dealing with multiple inheritance and the need to initialize attributes from different parent classes, super() provides a clean way to ensure that the __init__ methods of all relevant parent classes are called in the correct order, without needing to explicitly track and call each one individually."
      ],
      "metadata": {
        "id": "laaKVGmHVL4X"
      }
    },
    {
      "cell_type": "markdown",
      "source": [
        "21. What is the significance of the __del__ method in Python?\n",
        "\n",
        "Ans. The __del__ method in Python has a specific purpose related to object finalization or cleanup when an object is about to be garbage collected. However, it's also a method that comes with significant caveats and is often discouraged for general resource management.\n",
        "\n",
        "Here's a breakdown of its significance and the important considerations:\n",
        "\n",
        "- Significance:\n",
        "\n",
        "Finalization Hook: The primary purpose of __del__ is to provide a hook that is called just before an object is destroyed by the garbage collector. This allows you to define some last-minute cleanup operations that your object might need to perform.\n",
        "\n",
        "Resource Release (Potentially): In theory, __del__ could be used to release external resources held by an object, such as closing files, network connections, or releasing locks.\n",
        "\n",
        "Summary:\n",
        "\n",
        "The __del__ method exists to provide a finalization hook, its unpredictable timing, potential for issues with circular references and exceptions, and interference with garbage collection make it generally unreliable and discouraged for resource management."
      ],
      "metadata": {
        "id": "UcOwX93rV12u"
      }
    },
    {
      "cell_type": "markdown",
      "source": [
        "22.  What is the difference between @staticmethod and @classmethod in Python?\n",
        "\n",
        "Ans. Ah, @staticmethod and @classmethod are decorators in Python that modify how methods within a class are called and how they interact with the class and its instances. While both are defined within a class and are callable without needing to instantiate the class first, they have distinct purposes and ways of operating.\n",
        "\n",
        "Think of it this way:\n",
        "\n",
        "@staticmethod: It's like defining a regular function that happens to live inside the class's namespace. It doesn't receive any automatic arguments related to the class or its instances. It's essentially a utility function logically grouped with the class.\n",
        "\n",
        "@classmethod: It's a method that receives the class itself as the first argument (conventionally named cls). This allows the method to access and modify class-level attributes and even create instances of the class.\n",
        "\n",
        "Let's break down the differences with examples:\n",
        "\n",
        "@staticmethod\n",
        "\n",
        "Purpose: To define a function that is logically associated with the class but doesn't need access to the instance (self) or the class itself (cls). It's often used for utility functions that operate on data related to the class but are independent of any specific instance.\n",
        "\n",
        "No Implicit Arguments: A static method doesn't receive the instance or the class as its first argument. You define it like a regular function.\n",
        "\n",
        "How to Call: You can call a static method on the class itself (ClassName.static_method()) or on an instance of the class (instance.static_method()).\n",
        "\n",
        "Example:"
      ],
      "metadata": {
        "id": "OuB52GbdWYru"
      }
    },
    {
      "cell_type": "code",
      "source": [
        "class MathUtils:\n",
        "    @staticmethod\n",
        "    def add(x, y):\n",
        "        return x + y\n",
        "\n",
        "    @staticmethod\n",
        "    def is_positive(number):\n",
        "        return number > 0\n",
        "\n",
        "print(MathUtils.add(5, 3))       # Output: 8\n",
        "print(MathUtils.is_positive(-2))  # Output: False\n",
        "\n",
        "util = MathUtils()\n",
        "print(util.add(10, 2))         # Output: 12\n",
        "print(util.is_positive(7))      # Output: True"
      ],
      "metadata": {
        "colab": {
          "base_uri": "https://localhost:8080/"
        },
        "id": "mhxjsWoaWrZR",
        "outputId": "058b24f7-42a3-46df-ce89-e0fa1839bf39"
      },
      "execution_count": 9,
      "outputs": [
        {
          "output_type": "stream",
          "name": "stdout",
          "text": [
            "8\n",
            "False\n",
            "12\n",
            "True\n"
          ]
        }
      ]
    },
    {
      "cell_type": "markdown",
      "source": [
        "@classmethod\n",
        "\n",
        "Purpose: To define a method that receives the class itself as the first argument (cls). This is useful when you need to perform operations that involve the class, such as:\n",
        "\n",
        "Creating alternative constructors.\n",
        "Accessing or modifying class-level attributes.\n",
        "Calling other class methods.\n",
        "Implicit Class Argument: The first parameter of a class method is automatically bound to the class itself (by convention, named cls).\n",
        "\n",
        "How to Call: You can call a class method on the class itself (ClassName.class_method()) or on an instance of the class (instance.class_method()). In both cases, the class object will be passed as the first argument.\n",
        "\n",
        "Example:"
      ],
      "metadata": {
        "id": "VryxOaRAWyPG"
      }
    },
    {
      "cell_type": "code",
      "source": [
        "class Employee:\n",
        "    num_employees = 0\n",
        "    raise_amount = 1.04\n",
        "\n",
        "    def __init__(self, first, last, pay):\n",
        "        self.first = first\n",
        "        self.last = last\n",
        "        self.pay = pay\n",
        "        Employee.num_employees += 1\n",
        "\n",
        "    def apply_raise(self):\n",
        "        self.pay = int(self.pay * self.raise_amount)\n",
        "\n",
        "    @classmethod\n",
        "    def set_raise_amount(cls, amount):\n",
        "        cls.raise_amount = amount\n",
        "\n",
        "    @classmethod\n",
        "    def from_string(cls, emp_str):\n",
        "        first, last, pay = emp_str.split('-')\n",
        "        return cls(first, last, int(pay))  # Calls the class constructor\n",
        "\n",
        "print(Employee.num_employees)  # Output: 0\n",
        "\n",
        "emp_1 = Employee(\"John\", \"Doe\", 50000)\n",
        "emp_2 = Employee(\"Jane\", \"Smith\", 60000)\n",
        "\n",
        "print(Employee.num_employees)  # Output: 2\n",
        "\n",
        "Employee.set_raise_amount(1.05)\n",
        "print(Employee.raise_amount)    # Output: 1.05\n",
        "print(emp_1.raise_amount)       # Output: 1.05\n",
        "\n",
        "new_emp_str = \"Jim-Brown-70000\"\n",
        "new_emp = Employee.from_string(new_emp_str)\n",
        "print(new_emp.first)           # Output: Jim\n",
        "print(Employee.num_employees)  # Output: 3"
      ],
      "metadata": {
        "colab": {
          "base_uri": "https://localhost:8080/"
        },
        "id": "klO1fANPW0tu",
        "outputId": "f20514be-87d0-434d-812b-1b6b4d710967"
      },
      "execution_count": 10,
      "outputs": [
        {
          "output_type": "stream",
          "name": "stdout",
          "text": [
            "0\n",
            "2\n",
            "1.05\n",
            "1.05\n",
            "Jim\n",
            "3\n"
          ]
        }
      ]
    },
    {
      "cell_type": "markdown",
      "source": [
        "23.  How does polymorphism work in Python with inheritance?\n",
        "\n",
        "Ans.  Polymorphism in Python, especially in the context of inheritance, is a beautiful demonstration of how object-oriented programming promotes flexibility and code reusability. The term \"polymorphism\" literally means \"many forms,\" and in OOP, it refers to the ability of different classes to respond to the same method call in their own specific ways.\n",
        "\n",
        "Here's how it works with inheritance in Python:\n",
        "\n",
        "The Foundation: Method Overriding\n",
        "\n",
        "The cornerstone of polymorphism in inheritance is method overriding. When a subclass inherits from a superclass, it can provide its own implementation of a method that is already defined in the superclass. This allows the subclass to customize the behavior of the inherited method to suit its specific needs.\n",
        "\n",
        "The Polymorphic Behavior:\n",
        "\n",
        "The magic of polymorphism happens when you treat objects of different classes (that share a common superclass or interface) in a uniform way. You can call the same method on these objects, and each object will execute the version of the method that is appropriate for its class.\n",
        "\n",
        "\n"
      ],
      "metadata": {
        "id": "jZZRbJ8hW9Cv"
      }
    },
    {
      "cell_type": "markdown",
      "source": [
        "24. What is method chaining in Python OOP?\n",
        "\n",
        "Ans.  method chaining in Python's object-oriented programming is a clever and often elegant technique that allows you to call multiple methods on the same object in a sequential manner, all in a single line of code. It works by having each method in the chain return the object itself (self) after performing its operation.\n",
        "\n",
        "Think of it like a series of instructions being applied to the same entity, one after the other, in a fluent and readable way.\n",
        "\n",
        "How it Works:\n",
        "\n",
        "The key to method chaining is that each method in the sequence must return a reference to the object on which it was called (i.e., return self). This allows you to immediately call another method on the result of the previous method call.\n",
        "\n",
        "Illustrative Example: A Simple Calculator Class\n",
        "\n",
        "\n",
        "Let's create a simple Calculator class to demonstrate method chaining:"
      ],
      "metadata": {
        "id": "HylJHPSzXa90"
      }
    },
    {
      "cell_type": "code",
      "source": [
        "class Calculator:\n",
        "    def __init__(self, value=0):\n",
        "        self.value = value\n",
        "\n",
        "    def add(self, num):\n",
        "        self.value += num\n",
        "        return self\n",
        "\n",
        "    def subtract(self, num):\n",
        "        self.value -= num\n",
        "        return self\n",
        "\n",
        "    def multiply(self, num):\n",
        "        self.value *= num\n",
        "        return self\n",
        "\n",
        "    def get_result(self):\n",
        "        return self.value\n",
        "\n",
        "# Using method chaining\n",
        "calculator = Calculator(10)\n",
        "result = calculator.add(5).subtract(3).multiply(2).get_result()\n",
        "print(result)  # Output: 24"
      ],
      "metadata": {
        "colab": {
          "base_uri": "https://localhost:8080/"
        },
        "id": "icSXWfqfXnLT",
        "outputId": "f19a9e6c-e79b-4381-b437-abcc91148d1c"
      },
      "execution_count": 11,
      "outputs": [
        {
          "output_type": "stream",
          "name": "stdout",
          "text": [
            "24\n"
          ]
        }
      ]
    },
    {
      "cell_type": "markdown",
      "source": [
        "25.  What is the purpose of the __call__ method in Python?\n",
        "\n",
        "Ans. Ah, the __call__ method in Python is a fascinating and powerful special method that allows you to make instances of your classes callable like regular functions. Once you define __call__ in a class, you can directly \"call\" an object of that class using parentheses, just as you would call a function.\n",
        "\n",
        "Think of it as giving your objects the ability to behave like functions.\n",
        "\n",
        "Purpose and Functionality:\n",
        "\n",
        "The primary purpose of __call__ is to encapsulate some specific behavior or operation within an object and then make that behavior easily invokable. When you call an object (e.g., my_object()), Python automatically invokes the __call__ method defined in the object's class. Any arguments you pass during the \"call\" are then passed as arguments to the __call__ method.\n",
        "\n",
        "How it Works:\n",
        "\n",
        "When you define a __call__(self, *args, **kwargs) method in your class, any instance of that class becomes callable. The self parameter refers to the instance itself, *args captures any positional arguments passed during the call, and **kwargs captures any keyword arguments.\n",
        "\n",
        "Example:\n"
      ],
      "metadata": {
        "id": "h0WcHLLiXr2d"
      }
    },
    {
      "cell_type": "code",
      "source": [
        "class Power:\n",
        "    def __init__(self, exponent):\n",
        "        self.exponent = exponent\n",
        "\n",
        "    def __call__(self, base):\n",
        "        return base ** self.exponent\n",
        "\n",
        "# Creating instances of the Power class\n",
        "square = Power(2)\n",
        "cube = Power(3)\n",
        "\n",
        "# Calling the instances like functions\n",
        "result_square = square(5)  # Equivalent to square.__call__(5)\n",
        "result_cube = cube(2)    # Equivalent to cube.__call__(2)\n",
        "\n",
        "print(f\"5 squared is: {result_square}\")  # Output: 5 squared is: 25\n",
        "print(f\"2 cubed is: {result_cube}\")      # Output: 2 cubed is: 8"
      ],
      "metadata": {
        "colab": {
          "base_uri": "https://localhost:8080/"
        },
        "id": "GVEEfwJQYAgw",
        "outputId": "36b93f76-9602-4140-d326-6c7f7f0680f9"
      },
      "execution_count": 12,
      "outputs": [
        {
          "output_type": "stream",
          "name": "stdout",
          "text": [
            "5 squared is: 25\n",
            "2 cubed is: 8\n"
          ]
        }
      ]
    },
    {
      "cell_type": "markdown",
      "source": [
        "In Summary:\n",
        "\n",
        "The   - - __call__  - - method in Python allows instances of your classes to be invoked like regular functions. This provides a powerful way to create objects that encapsulate behavior and maintain state, offering flexibility and expressiveness in your object-oriented designs. It's particularly useful when you need function-like behavior combined with the ability to store and manage internal data within an object."
      ],
      "metadata": {
        "id": "YTDvw268YGo8"
      }
    },
    {
      "cell_type": "markdown",
      "source": [
        " # Practical Questions"
      ],
      "metadata": {
        "id": "Mg2f5EbqYawt"
      }
    },
    {
      "cell_type": "markdown",
      "source": [],
      "metadata": {
        "id": "4Ah1vXoGVICQ"
      }
    },
    {
      "cell_type": "code",
      "source": [
        "# 1. Create a parent class Animal with a method speak() that prints a generic message. Create a child class Dog\n",
        "#that overrides the speak() method to print \"Bark!\"\n",
        "\n",
        "class Animal:\n",
        "    def speak(self):\n",
        "        print(\"Generic animal sound\")\n",
        "\n",
        "class Dog(Animal):\n",
        "    def speak(self):\n",
        "        print(\"Bark!\")\n",
        "\n",
        "# Creating instances\n",
        "animal = Animal()\n",
        "dog = Dog()\n",
        "\n",
        "# Calling the speak method\n",
        "animal.speak()  # Output: Generic animal sound\n",
        "dog.speak()     # Output: Bark!"
      ],
      "metadata": {
        "colab": {
          "base_uri": "https://localhost:8080/"
        },
        "id": "1T1KhtOGY5DB",
        "outputId": "dc1cde30-dd39-4935-f6fd-9b81ffc76961"
      },
      "execution_count": 17,
      "outputs": [
        {
          "output_type": "stream",
          "name": "stdout",
          "text": [
            "Generic animal sound\n",
            "Bark!\n"
          ]
        }
      ]
    },
    {
      "cell_type": "code",
      "source": [
        "#2. Write a program to create an abstract class Shape with a method area(). Derive classes Circle and Rectangle\n",
        "#from it and implement the area() method in both.\n",
        "\n",
        "from abc import ABC, abstractmethod\n",
        "import math\n",
        "\n",
        "class Shape(ABC):\n",
        "    @abstractmethod\n",
        "    def area(self):\n",
        "        pass\n",
        "\n",
        "class Circle(Shape):\n",
        "    def __init__(self, radius):\n",
        "        self.radius = radius\n",
        "\n",
        "    def area(self):\n",
        "        return math.pi * self.radius**2\n",
        "\n",
        "class Rectangle(Shape):\n",
        "    def __init__(self, width, height):\n",
        "        self.width = width\n",
        "        self.height = height\n",
        "\n",
        "    def area(self):\n",
        "        return self.width * self.height\n",
        "\n",
        "# You cannot create an instance of an abstract class:\n",
        "# shape = Shape()  # This will raise a TypeError\n",
        "\n",
        "# Creating instances of the derived classes\n",
        "circle = Circle(5)\n",
        "rectangle = Rectangle(4, 6)\n",
        "\n",
        "# Calling the area() method on the instances\n",
        "print(f\"Area of the circle: {circle.area()}\")\n",
        "print(f\"Area of the rectangle: {rectangle.area()}\")"
      ],
      "metadata": {
        "colab": {
          "base_uri": "https://localhost:8080/"
        },
        "id": "kvon6lkHZZQX",
        "outputId": "ccc6ef82-67e2-41dd-8e4c-a491b32f2a20"
      },
      "execution_count": 18,
      "outputs": [
        {
          "output_type": "stream",
          "name": "stdout",
          "text": [
            "Area of the circle: 78.53981633974483\n",
            "Area of the rectangle: 24\n"
          ]
        }
      ]
    },
    {
      "cell_type": "code",
      "source": [
        "#3. Implement a multi-level inheritance scenario where a class Vehicle has an attribute type. Derive a class Car\n",
        "#and further derive a class ElectricCar that adds a battery attribute.\n",
        "\n",
        "class Vehicle:\n",
        "    def __init__(self, vehicle_type):\n",
        "        self.type = vehicle_type\n",
        "\n",
        "    def display_type(self):\n",
        "        print(f\"Vehicle Type: {self.type}\")\n",
        "\n",
        "class Car(Vehicle):\n",
        "    def __init__(self, make, model):\n",
        "        super().__init__(\"Car\")\n",
        "        self.make = make\n",
        "        self.model = model\n",
        "\n",
        "    def display_info(self):\n",
        "        super().display_type()\n",
        "        print(f\"Make: {self.make}\")\n",
        "        print(f\"Model: {self.model}\")\n",
        "\n",
        "class ElectricCar(Car):\n",
        "    def __init__(self, make, model, battery_capacity):\n",
        "        super().__init__(make, model)\n",
        "        self.battery_capacity = battery_capacity\n",
        "\n",
        "    def display_details(self):\n",
        "        super().display_info()\n",
        "        print(f\"Battery Capacity: {self.battery_capacity} kWh\")\n",
        "\n",
        "# Creating instances of the classes\n",
        "vehicle = Vehicle(\"Generic\")\n",
        "car = Car(\"Toyota\", \"Camry\")\n",
        "electric_car = ElectricCar(\"Tesla\", \"Model 3\", 75)\n",
        "\n",
        "# Accessing attributes and methods\n",
        "vehicle.display_type()\n",
        "print(\"-\" * 20)\n",
        "car.display_info()\n",
        "print(\"-\" * 20)\n",
        "electric_car.display_details()"
      ],
      "metadata": {
        "colab": {
          "base_uri": "https://localhost:8080/"
        },
        "id": "56qH5X-ZZoOh",
        "outputId": "cfcf7e55-233d-4bc6-bdb7-df7fae20e1c7"
      },
      "execution_count": 19,
      "outputs": [
        {
          "output_type": "stream",
          "name": "stdout",
          "text": [
            "Vehicle Type: Generic\n",
            "--------------------\n",
            "Vehicle Type: Car\n",
            "Make: Toyota\n",
            "Model: Camry\n",
            "--------------------\n",
            "Vehicle Type: Car\n",
            "Make: Tesla\n",
            "Model: Model 3\n",
            "Battery Capacity: 75 kWh\n"
          ]
        }
      ]
    },
    {
      "cell_type": "code",
      "source": [
        "# 4. Demonstrate polymorphism by creating a base class Bird with a method fly(). Create two derived classes\n",
        "#Sparrow and Penguin that override the fly() method.\n",
        "\n",
        "class Bird:\n",
        "    def fly(self):\n",
        "        print(\"Generic bird flying...\")\n",
        "\n",
        "class Sparrow(Bird):\n",
        "    def fly(self):\n",
        "        print(\"Sparrow is flapping its wings and flying fast!\")\n",
        "\n",
        "class Penguin(Bird):\n",
        "    def fly(self):\n",
        "        print(\"Penguins can't really fly, but they can swim gracefully!\")\n",
        "\n",
        "# Creating instances of the classes\n",
        "generic_bird = Bird()\n",
        "sparrow = Sparrow()\n",
        "penguin = Penguin()\n",
        "\n",
        "# Demonstrating polymorphism\n",
        "def bird_action(bird):\n",
        "    bird.fly()\n",
        "\n",
        "print(\"Action with a generic bird:\")\n",
        "bird_action(generic_bird)\n",
        "\n",
        "print(\"\\nAction with a sparrow:\")\n",
        "bird_action(sparrow)\n",
        "\n",
        "print(\"\\nAction with a penguin:\")\n",
        "bird_action(penguin)\n",
        "\n",
        "# Another way to demonstrate polymorphism using a list\n",
        "birds = [sparrow, penguin]\n",
        "print(\"\\nBirds performing their fly action:\")\n",
        "for bird in birds:\n",
        "    bird.fly()\n"
      ],
      "metadata": {
        "colab": {
          "base_uri": "https://localhost:8080/"
        },
        "id": "o1Oha_B9Z4g-",
        "outputId": "b4bfc117-89c7-4025-ad67-a9a3fb69d3ac"
      },
      "execution_count": 20,
      "outputs": [
        {
          "output_type": "stream",
          "name": "stdout",
          "text": [
            "Action with a generic bird:\n",
            "Generic bird flying...\n",
            "\n",
            "Action with a sparrow:\n",
            "Sparrow is flapping its wings and flying fast!\n",
            "\n",
            "Action with a penguin:\n",
            "Penguins can't really fly, but they can swim gracefully!\n",
            "\n",
            "Birds performing their fly action:\n",
            "Sparrow is flapping its wings and flying fast!\n",
            "Penguins can't really fly, but they can swim gracefully!\n"
          ]
        }
      ]
    },
    {
      "cell_type": "code",
      "source": [
        "# 5. Write a program to demonstrate encapsulation by creating a class BankAccount with private attributes\n",
        "#balance and methods to deposit, withdraw, and check balance.\n",
        "\n",
        "class BankAccount:\n",
        "    def __init__(self, account_number, initial_balance=0):\n",
        "        self.__account_number = account_number  # Private attribute (name mangling)\n",
        "        self.__balance = initial_balance      # Private attribute (name mangling)\n",
        "\n",
        "    def deposit(self, amount):\n",
        "        if amount > 0:\n",
        "            self.__balance += amount\n",
        "            print(f\"Deposited ₹{amount}. New balance: ₹{self.__balance}\")\n",
        "        else:\n",
        "            print(\"Invalid deposit amount. Please enter a positive value.\")\n",
        "\n",
        "    def withdraw(self, amount):\n",
        "        if amount > 0:\n",
        "            if amount <= self.__balance:\n",
        "                self.__balance -= amount\n",
        "                print(f\"Withdrew ₹{amount}. New balance: ₹{self.__balance}\")\n",
        "            else:\n",
        "                print(\"Insufficient balance.\")\n",
        "        else:\n",
        "            print(\"Invalid withdrawal amount. Please enter a positive value.\")\n",
        "\n",
        "    def check_balance(self):\n",
        "        return self.__balance\n",
        "\n",
        "    def get_account_number(self):  # Providing a controlled way to access a 'private' attribute\n",
        "        return self.__account_number\n",
        "\n",
        "# Creating an instance of BankAccount\n",
        "account = BankAccount(\"1234567890\", 1000)\n",
        "\n",
        "# Accessing methods to interact with the account\n",
        "account.deposit(500)\n",
        "account.withdraw(200)\n",
        "print(f\"Current balance: ₹{account.check_balance()}\")\n",
        "\n",
        "# Attempting to directly access private attributes (generally discouraged)\n",
        "# print(account.__balance)  # This will raise an AttributeError\n",
        "\n",
        "# Accessing the 'private' attribute using the provided method\n",
        "print(f\"Account Number: {account.get_account_number()}\")\n",
        "\n",
        "# Python's name mangling: You can technically still access it, but it's not recommended\n",
        "# print(account._BankAccount__balance)"
      ],
      "metadata": {
        "colab": {
          "base_uri": "https://localhost:8080/"
        },
        "id": "ZPW0pH3OaEkd",
        "outputId": "2b3d61ca-7fa0-4f06-f501-4ba5196dbb12"
      },
      "execution_count": 21,
      "outputs": [
        {
          "output_type": "stream",
          "name": "stdout",
          "text": [
            "Deposited ₹500. New balance: ₹1500\n",
            "Withdrew ₹200. New balance: ₹1300\n",
            "Current balance: ₹1300\n",
            "Account Number: 1234567890\n"
          ]
        }
      ]
    },
    {
      "cell_type": "markdown",
      "source": [],
      "metadata": {
        "id": "zp5_LXyIByXK"
      }
    },
    {
      "cell_type": "code",
      "source": [
        "# 6. Demonstrate runtime polymorphism using a method play() in a base class Instrument. Derive classes Guitar\n",
        "#and Piano that implement their own version of play().\n",
        "\n",
        "class Instrument:\n",
        "    def play(self):\n",
        "        print(\"Generic instrument sound\")\n",
        "\n",
        "class Guitar(Instrument):\n",
        "    def play(self):\n",
        "        print(\"Strumming the guitar strings...\")\n",
        "\n",
        "class Piano(Instrument):\n",
        "    def play(self):\n",
        "        print(\"Playing the piano keys...\")\n",
        "\n",
        "# Function that takes an Instrument object and makes it play\n",
        "def tune_instrument(instrument):\n",
        "    instrument.play()\n",
        "\n",
        "# Creating instances of the classes\n",
        "instrument = Instrument()\n",
        "guitar = Guitar()\n",
        "piano = Piano()\n",
        "\n",
        "# Demonstrating runtime polymorphism\n",
        "print(\"Tuning a generic instrument:\")\n",
        "tune_instrument(instrument)\n",
        "\n",
        "print(\"\\nTuning a guitar:\")\n",
        "tune_instrument(guitar)\n",
        "\n",
        "print(\"\\nTuning a piano:\")\n",
        "tune_instrument(piano)\n",
        "\n",
        "# Another way to demonstrate runtime polymorphism using a list\n",
        "instruments = [guitar, piano]\n",
        "print(\"\\nMaking different instruments play:\")\n",
        "for inst in instruments:\n",
        "    inst.play()"
      ],
      "metadata": {
        "colab": {
          "base_uri": "https://localhost:8080/"
        },
        "id": "nZIbv2PqaR3L",
        "outputId": "53fb5546-378b-4f15-8d45-aba42b4be8fa"
      },
      "execution_count": 22,
      "outputs": [
        {
          "output_type": "stream",
          "name": "stdout",
          "text": [
            "Tuning a generic instrument:\n",
            "Generic instrument sound\n",
            "\n",
            "Tuning a guitar:\n",
            "Strumming the guitar strings...\n",
            "\n",
            "Tuning a piano:\n",
            "Playing the piano keys...\n",
            "\n",
            "Making different instruments play:\n",
            "Strumming the guitar strings...\n",
            "Playing the piano keys...\n"
          ]
        }
      ]
    },
    {
      "cell_type": "code",
      "source": [
        "# 7. Create a class MathOperations with a class method add_numbers() to add two numbers and a static\n",
        "#method subtract_numbers() to subtract two numbers.\n",
        "\n",
        "class MathOperations:\n",
        "    @classmethod\n",
        "    def add_numbers(cls, num1, num2):\n",
        "        \"\"\"Class method to add two numbers.\"\"\"\n",
        "        return num1 + num2\n",
        "\n",
        "    @staticmethod\n",
        "    def subtract_numbers(num1, num2):\n",
        "        \"\"\"Static method to subtract two numbers.\"\"\"\n",
        "        return num1 - num2\n",
        "\n",
        "# Calling the class method\n",
        "sum_result = MathOperations.add_numbers(10, 5)\n",
        "print(f\"Sum: {sum_result}\")\n",
        "\n",
        "# Calling the static method\n",
        "difference_result = MathOperations.subtract_numbers(10, 5)\n",
        "print(f\"Difference: {difference_result}\")\n",
        "\n",
        "# You can also call them on an instance of the class (though it's less common for static methods)\n",
        "math_ops = MathOperations()\n",
        "sum_result_instance = math_ops.add_numbers(7, 3)\n",
        "difference_result_instance = math_ops.subtract_numbers(7, 3)\n",
        "print(f\"Sum (via instance): {sum_result_instance}\")\n",
        "print(f\"Difference (via instance): {difference_result_instance}\")"
      ],
      "metadata": {
        "colab": {
          "base_uri": "https://localhost:8080/"
        },
        "id": "HRNrfbFtadaD",
        "outputId": "9903b758-392e-43d6-950f-26d37ba02cea"
      },
      "execution_count": 23,
      "outputs": [
        {
          "output_type": "stream",
          "name": "stdout",
          "text": [
            "Sum: 15\n",
            "Difference: 5\n",
            "Sum (via instance): 10\n",
            "Difference (via instance): 4\n"
          ]
        }
      ]
    },
    {
      "cell_type": "code",
      "source": [
        "# 8. Implement a class Person with a class method to count the total number of persons created.\n",
        "\n",
        "class Person:\n",
        "    _count = 0  # Class-level attribute to store the count\n",
        "\n",
        "    def __init__(self, name):\n",
        "        self.name = name\n",
        "        Person._count += 1  # Increment the count when a new Person is created\n",
        "\n",
        "    @classmethod\n",
        "    def get_total_persons(cls):\n",
        "        \"\"\"Class method to get the total number of Person objects created.\"\"\"\n",
        "        return cls._count\n",
        "\n",
        "# Creating Person objects\n",
        "person1 = Person(\"Alice\")\n",
        "person2 = Person(\"Bob\")\n",
        "person3 = Person(\"Charlie\")\n",
        "\n",
        "# Calling the class method to get the count\n",
        "total_persons = Person.get_total_persons()\n",
        "print(f\"Total number of persons created: {total_persons}\")\n",
        "\n",
        "# Creating another Person object\n",
        "person4 = Person(\"David\")\n",
        "total_persons_updated = Person.get_total_persons()\n",
        "print(f\"Total number of persons created (after creating one more): {total_persons_updated}\")"
      ],
      "metadata": {
        "colab": {
          "base_uri": "https://localhost:8080/"
        },
        "id": "xdMXGGxXaoFi",
        "outputId": "fef617b5-b498-437f-e080-6dc834e905a0"
      },
      "execution_count": 24,
      "outputs": [
        {
          "output_type": "stream",
          "name": "stdout",
          "text": [
            "Total number of persons created: 3\n",
            "Total number of persons created (after creating one more): 4\n"
          ]
        }
      ]
    },
    {
      "cell_type": "code",
      "source": [
        "# 9. Write a class Fraction with attributes numerator and denominator. Override the str method to display the\n",
        "#fraction as \"numerator/denominator\".\n",
        "\n",
        "class Fraction:\n",
        "    def __init__(self, numerator, denominator):\n",
        "        if denominator == 0:\n",
        "            raise ValueError(\"Denominator cannot be zero\")\n",
        "        self.numerator = numerator\n",
        "        self.denominator = denominator\n",
        "\n",
        "    def __str__(self):\n",
        "        \"\"\"Overrides the str method to display the fraction in 'numerator/denominator' format.\"\"\"\n",
        "        return f\"{self.numerator}/{self.denominator}\"\n",
        "\n",
        "# Creating Fraction objects\n",
        "fraction1 = Fraction(3, 4)\n",
        "fraction2 = Fraction(1, 2)\n",
        "fraction3 = Fraction(5, 7)\n",
        "\n",
        "# Printing the Fraction objects (which implicitly calls __str__)\n",
        "print(fraction1)\n",
        "print(fraction2)\n",
        "print(fraction3)\n",
        "\n",
        "# Using the str() function explicitly\n",
        "print(str(fraction1))\n",
        "print(str(fraction2))\n",
        "print(str(fraction3))"
      ],
      "metadata": {
        "colab": {
          "base_uri": "https://localhost:8080/"
        },
        "id": "b_yZ_FwHa15x",
        "outputId": "bf137a1d-d2d3-45f0-8631-29b8d19f7423"
      },
      "execution_count": 25,
      "outputs": [
        {
          "output_type": "stream",
          "name": "stdout",
          "text": [
            "3/4\n",
            "1/2\n",
            "5/7\n",
            "3/4\n",
            "1/2\n",
            "5/7\n"
          ]
        }
      ]
    },
    {
      "cell_type": "code",
      "source": [
        "# 10. Demonstrate operator overloading by creating a class Vector and overriding the add method to add two\n",
        "#vectors.\n",
        "\n",
        "class Vector:\n",
        "    def __init__(self, x, y):\n",
        "        self.x = x\n",
        "        self.y = y\n",
        "\n",
        "    def __str__(self):\n",
        "        return f\"Vector({self.x}, {self.y})\"\n",
        "\n",
        "    def __add__(self, other):\n",
        "        \"\"\"Overrides the addition operator (+) for Vector objects.\"\"\"\n",
        "        if isinstance(other, Vector):\n",
        "            return Vector(self.x + other.x, self.y + other.y)\n",
        "        else:\n",
        "            raise TypeError(\"Can only add Vector objects to each other\")\n",
        "\n",
        "# Creating Vector objects\n",
        "v1 = Vector(2, 3)\n",
        "v2 = Vector(4, 5)\n",
        "\n",
        "# Adding the vectors using the overloaded + operator\n",
        "v3 = v1 + v2\n",
        "print(v3)\n",
        "\n",
        "# Attempting to add a Vector to a non-Vector object\n",
        "try:\n",
        "    v4 = v1 + (1, 2)\n",
        "    print(v4)\n",
        "except TypeError as e:\n",
        "    print(e)"
      ],
      "metadata": {
        "colab": {
          "base_uri": "https://localhost:8080/"
        },
        "id": "GYV_MkobbDqB",
        "outputId": "ee707631-0415-41b6-e183-b8b7aa53c9df"
      },
      "execution_count": 26,
      "outputs": [
        {
          "output_type": "stream",
          "name": "stdout",
          "text": [
            "Vector(6, 8)\n",
            "Can only add Vector objects to each other\n"
          ]
        }
      ]
    },
    {
      "cell_type": "code",
      "source": [
        "#  11. Create a class Person with attributes name and age. Add a method greet() that prints \"Hello, my name is\n",
        "#{name} and I am {age} years old.\"\n",
        "\n",
        "class Person:\n",
        "    def __init__(self, name, age):\n",
        "        self.name = name\n",
        "        self.age = age\n",
        "\n",
        "    def greet(self):\n",
        "        \"\"\"Prints a greeting message with the person's name and age.\"\"\"\n",
        "        print(f\"Hello, my name is {self.name} and I am {self.age} years old.\")\n",
        "\n",
        "# Creating Person objects\n",
        "person1 = Person(\"ASHISH PAL\", 21)\n",
        "person2 = Person(\"ANSHU AGRAWAL\", 20)\n",
        "\n",
        "# Calling the greet() method\n",
        "person1.greet()\n",
        "person2.greet()"
      ],
      "metadata": {
        "colab": {
          "base_uri": "https://localhost:8080/"
        },
        "id": "MS8MrNiwbQrC",
        "outputId": "91b205f3-dec6-41eb-f5fb-9551c5e849cc"
      },
      "execution_count": 28,
      "outputs": [
        {
          "output_type": "stream",
          "name": "stdout",
          "text": [
            "Hello, my name is ASHISH PAL and I am 21 years old.\n",
            "Hello, my name is ANSHU AGRAWAL and I am 20 years old.\n"
          ]
        }
      ]
    },
    {
      "cell_type": "code",
      "source": [
        "# 12. Implement a class Student with attributes name and grades. Create a method average_grade() to compute\n",
        "#the average of the grades\n",
        "\n",
        "class Student:\n",
        "    def __init__(self, name, grades):\n",
        "        \"\"\"\n",
        "        Initializes a Student object with a name and a list of grades.\n",
        "\n",
        "        Args:\n",
        "            name (str): The name of the student.\n",
        "            grades (list): A list of numerical grades.\n",
        "        \"\"\"\n",
        "        self.name = name\n",
        "        self.grades = grades\n",
        "\n",
        "    def average_grade(self):\n",
        "        \"\"\"\n",
        "        Computes the average of the grades.\n",
        "\n",
        "        Returns:\n",
        "            float: The average of the grades, or 0 if the grades list is empty.\n",
        "        \"\"\"\n",
        "        if not self.grades:  # Check for empty grades list to avoid division by zero\n",
        "            return 0.0\n",
        "        total = sum(self.grades)\n",
        "        return total / len(self.grades)\n",
        "\n",
        "# Example Usage:\n",
        "# Create a Student object\n",
        "student1 = Student(\"ASHISH\", [85, 90, 78, 92, 88])\n",
        "\n",
        "# Calculate and print the average grade\n",
        "average = student1.average_grade()\n",
        "print(f\"{student1.name}'s average grade is: {average:.2f}\")  # Format to 2 decimal places\n",
        "\n",
        "# Example with an empty grades list\n",
        "student2 = Student(\"ANSHU\", [])\n",
        "average2 = student2.average_grade()\n",
        "print(f\"{student2.name}'s average grade is: {average2:.2f}\")\n"
      ],
      "metadata": {
        "colab": {
          "base_uri": "https://localhost:8080/"
        },
        "id": "ggnyaBHubtaZ",
        "outputId": "7efbe4f4-baeb-47c0-9418-d3cf9d0ba4b2"
      },
      "execution_count": 30,
      "outputs": [
        {
          "output_type": "stream",
          "name": "stdout",
          "text": [
            "ASHISH's average grade is: 86.60\n",
            "ANSHU's average grade is: 0.00\n"
          ]
        }
      ]
    },
    {
      "cell_type": "code",
      "source": [
        "# 13. Create a class Rectangle with methods set_dimensions() to set the dimensions and area() to calculate the\n",
        "#area.\n",
        "\n",
        "class Rectangle:\n",
        "    def __init__(self):\n",
        "        \"\"\"\n",
        "        Initializes a Rectangle object with default dimensions of 0.\n",
        "        \"\"\"\n",
        "        self.width = 0\n",
        "        self.height = 0\n",
        "\n",
        "    def set_dimensions(self, width, height):\n",
        "        \"\"\"\n",
        "        Sets the dimensions of the rectangle.\n",
        "\n",
        "        Args:\n",
        "            width (float): The width of the rectangle.\n",
        "            height (float): The height of the rectangle.\n",
        "        \"\"\"\n",
        "        if width < 0 or height < 0:\n",
        "            raise ValueError(\"Dimensions must be non-negative.\")\n",
        "        self.width = width\n",
        "        self.height = height\n",
        "\n",
        "    def area(self):\n",
        "        \"\"\"\n",
        "        Calculates the area of the rectangle.\n",
        "\n",
        "        Returns:\n",
        "            float: The area of the rectangle.\n",
        "        \"\"\"\n",
        "        return self.width * self.height\n",
        "\n",
        "# Example Usage:\n",
        "# Create a Rectangle object\n",
        "rectangle1 = Rectangle()\n",
        "\n",
        "# Set the dimensions\n",
        "rectangle1.set_dimensions(5, 10)\n",
        "\n",
        "# Calculate and print the area\n",
        "area1 = rectangle1.area()\n",
        "print(f\"The area of the rectangle is: {area1}\")\n",
        "\n",
        "# Example with invalid dimensions\n",
        "rectangle2 = Rectangle()\n",
        "try:\n",
        "    rectangle2.set_dimensions(-2, 8)  # This will raise a ValueError\n",
        "except ValueError as e:\n",
        "    print(f\"Error: {e}\")\n",
        "\n",
        "# Calculate area after handling the exception\n",
        "rectangle2.set_dimensions(4,6)\n",
        "area2 = rectangle2.area()\n",
        "print(f\"The area of the rectangle is: {area2}\")\n"
      ],
      "metadata": {
        "colab": {
          "base_uri": "https://localhost:8080/"
        },
        "id": "gsbKDaN0cIz5",
        "outputId": "ae79a665-77b3-4713-f5f7-5ca55ece83b8"
      },
      "execution_count": 31,
      "outputs": [
        {
          "output_type": "stream",
          "name": "stdout",
          "text": [
            "The area of the rectangle is: 50\n",
            "Error: Dimensions must be non-negative.\n",
            "The area of the rectangle is: 24\n"
          ]
        }
      ]
    },
    {
      "cell_type": "code",
      "source": [
        "# 14. Create a class Employee with a method calculate_salary() that computes the salary based on hours worked\n",
        "#and hourly rate. Create a derived class Manager that adds a bonus to the salary.\n",
        "\n",
        "class Employee:\n",
        "    def __init__(self, name, hourly_rate, hours_worked):\n",
        "        \"\"\"\n",
        "        Initializes an Employee object.\n",
        "\n",
        "        Args:\n",
        "            name (str): The name of the employee.\n",
        "            hourly_rate (float): The hourly rate of pay.\n",
        "            hours_worked (float): The number of hours worked.\n",
        "        \"\"\"\n",
        "        self.name = name\n",
        "        self.hourly_rate = hourly_rate\n",
        "        self.hours_worked = hours_worked\n",
        "\n",
        "    def calculate_salary(self):\n",
        "        \"\"\"\n",
        "        Calculates the salary of the employee.\n",
        "\n",
        "        Returns:\n",
        "            float: The salary, which is the hourly rate times the hours worked.\n",
        "        \"\"\"\n",
        "        return self.hourly_rate * self.hours_worked\n",
        "\n",
        "class Manager(Employee):\n",
        "    def __init__(self, name, hourly_rate, hours_worked, bonus):\n",
        "        \"\"\"\n",
        "        Initializes a Manager object, inheriting from Employee.\n",
        "\n",
        "        Args:\n",
        "            name (str): The name of the manager.\n",
        "            hourly_rate (float): The hourly rate of pay.\n",
        "            hours_worked (float): The number of hours worked.\n",
        "            bonus (float): The bonus to be added to the salary.\n",
        "        \"\"\"\n",
        "        super().__init__(name, hourly_rate, hours_worked)\n",
        "        self.bonus = bonus\n",
        "\n",
        "    def calculate_salary(self):\n",
        "        \"\"\"\n",
        "        Calculates the salary of the manager, including the bonus.\n",
        "\n",
        "        Returns:\n",
        "            float: The salary, which is the hourly rate times the hours worked, plus the bonus.\n",
        "        \"\"\"\n",
        "        base_salary = super().calculate_salary()  # Call the base class method\n",
        "        return base_salary + self.bonus\n",
        "\n",
        "# Example Usage:\n",
        "# Create an Employee object\n",
        "employee1 = Employee(\"ASHISH PAL\", 20, 40)\n",
        "salary1 = employee1.calculate_salary()\n",
        "print(f\"{employee1.name}'s salary: ${salary1:.2f}\")\n",
        "\n",
        "# Create a Manager object\n",
        "manager1 = Manager(\"ANSHU AGRAWAL\", 30, 40, 500)\n",
        "salary_with_bonus = manager1.calculate_salary()\n",
        "print(f\"{manager1.name}'s salary (with bonus): ${salary_with_bonus:.2f}\")\n"
      ],
      "metadata": {
        "colab": {
          "base_uri": "https://localhost:8080/"
        },
        "id": "V7PjN0Lzcf90",
        "outputId": "0bb4c924-6428-4622-8fa5-5ab430e10fb2"
      },
      "execution_count": 33,
      "outputs": [
        {
          "output_type": "stream",
          "name": "stdout",
          "text": [
            "ASHISH PAL's salary: $800.00\n",
            "ANSHU AGRAWAL's salary (with bonus): $1700.00\n"
          ]
        }
      ]
    },
    {
      "cell_type": "code",
      "source": [
        "# 15. Create a class Product with attributes name, price, and quantity. Implement a method total_price() that\n",
        "#calculates the total price of the product.\n",
        "\n",
        "class Product:\n",
        "    def __init__(self, name, price, quantity):\n",
        "        \"\"\"\n",
        "        Initializes a Product object.\n",
        "\n",
        "        Args:\n",
        "            name (str): The name of the product.\n",
        "            price (float): The price of the product per unit.\n",
        "            quantity (int): The quantity of the product.\n",
        "        \"\"\"\n",
        "        self.name = name\n",
        "        self.price = price\n",
        "        self.quantity = quantity\n",
        "\n",
        "    def total_price(self):\n",
        "        \"\"\"\n",
        "        Calculates the total price of the product.\n",
        "\n",
        "        Returns:\n",
        "            float: The total price (price times quantity).\n",
        "        \"\"\"\n",
        "        return self.price * self.quantity\n",
        "\n",
        "# Example Usage:\n",
        "# Create a Product object\n",
        "product1 = Product(\"Laptop\", 1200, 5)\n",
        "total_price1 = product1.total_price()\n",
        "print(f\"Total price of {product1.name}: ${total_price1:.2f}\")\n",
        "\n",
        "product2 = Product(\"Mouse\", 25, 20)\n",
        "total_price2 = product2.total_price()\n",
        "print(f\"Total price of {product2.name}: ${total_price2:.2f}\")\n"
      ],
      "metadata": {
        "colab": {
          "base_uri": "https://localhost:8080/"
        },
        "id": "GeqOXHRBdAuO",
        "outputId": "e5bc178f-edae-4123-91b5-694bfce0955c"
      },
      "execution_count": 34,
      "outputs": [
        {
          "output_type": "stream",
          "name": "stdout",
          "text": [
            "Total price of Laptop: $6000.00\n",
            "Total price of Mouse: $500.00\n"
          ]
        }
      ]
    },
    {
      "cell_type": "code",
      "source": [
        "# 16. Create a class Animal with an abstract method sound(). Create two derived classes Cow and Sheep that\n",
        "#implement the sound() method.\n",
        "\n",
        "from abc import ABC, abstractmethod\n",
        "\n",
        "class Animal(ABC):\n",
        "    \"\"\"\n",
        "    An abstract base class for animals.\n",
        "    \"\"\"\n",
        "    @abstractmethod\n",
        "    def sound(self):\n",
        "        \"\"\"\n",
        "        Abstract method to define the sound made by the animal.\n",
        "        This method must be implemented by any concrete subclass.\n",
        "        \"\"\"\n",
        "        pass\n",
        "\n",
        "class Cow(Animal):\n",
        "    \"\"\"\n",
        "    Represents a cow, a type of animal.\n",
        "    \"\"\"\n",
        "    def sound(self):\n",
        "        \"\"\"\n",
        "        Implements the sound method for a cow.\n",
        "        \"\"\"\n",
        "        print(\"Moo!\")\n",
        "\n",
        "class Sheep(Animal):\n",
        "    \"\"\"\n",
        "    Represents a sheep, a type of animal.\n",
        "    \"\"\"\n",
        "    def sound(self):\n",
        "        \"\"\"\n",
        "        Implements the sound method for a sheep.\n",
        "        \"\"\"\n",
        "        print(\"Baa!\")\n",
        "\n",
        "# Example Usage:\n",
        "# You cannot create an instance of Animal because it's abstract:\n",
        "# animal = Animal()  # This will raise a TypeError\n",
        "\n",
        "# Create instances of Cow and Sheep\n",
        "cow = Cow()\n",
        "sheep = Sheep()\n",
        "\n",
        "# Call the sound() method on the instances\n",
        "cow.sound()\n",
        "sheep.sound()\n",
        "\n",
        "# Demonstrate polymorphism:\n",
        "animals = [cow, sheep]\n",
        "for animal in animals:\n",
        "    animal.sound()\n"
      ],
      "metadata": {
        "colab": {
          "base_uri": "https://localhost:8080/"
        },
        "id": "FHmD6LHadX0P",
        "outputId": "f8c6bf76-e2e2-4545-be50-731e298e24bb"
      },
      "execution_count": 35,
      "outputs": [
        {
          "output_type": "stream",
          "name": "stdout",
          "text": [
            "Moo!\n",
            "Baa!\n",
            "Moo!\n",
            "Baa!\n"
          ]
        }
      ]
    },
    {
      "cell_type": "code",
      "source": [
        "# 17. Create a class Book with attributes title, author, and year_published. Add a method get_book_info() that\n",
        "#returns a formatted string with the book's details.\n",
        "\n",
        "class Book:\n",
        "    \"\"\"\n",
        "    Represents a book with a title, author, and publication year.\n",
        "    \"\"\"\n",
        "    def __init__(self, title, author, year_published):\n",
        "        \"\"\"\n",
        "        Initializes a Book object.\n",
        "\n",
        "        Args:\n",
        "            title (str): The title of the book.\n",
        "            author (str): The author of the book.\n",
        "            year_published (int): The year the book was published.\n",
        "        \"\"\"\n",
        "        self.title = title\n",
        "        self.author = author\n",
        "        self.year_published = year_published\n",
        "\n",
        "    def get_book_info(self):\n",
        "        \"\"\"\n",
        "        Returns a formatted string with the book's details.\n",
        "\n",
        "        Returns:\n",
        "            str: A string containing the title, author, and year of publication.\n",
        "        \"\"\"\n",
        "        return f\"Title: {self.title}, Author: {self.author}, Year Published: {self.year_published}\"\n",
        "\n",
        "# Example Usage:\n",
        "# Create a Book object\n",
        "book1 = Book(\"The Lord of the Rings\", \"J.R.R. Tolkien\", 1954)\n",
        "\n",
        "# Get the book information\n",
        "book_info = book1.get_book_info()\n",
        "print(book_info)  # Output: Title: The Lord of the Rings, Author: J.R.R. Tolkien, Year Published: 1954\n",
        "\n",
        "\n"
      ],
      "metadata": {
        "colab": {
          "base_uri": "https://localhost:8080/"
        },
        "id": "qawUp_65dpnQ",
        "outputId": "d1469c32-4d45-4d44-e1fa-60ce6c7cc9c5"
      },
      "execution_count": 37,
      "outputs": [
        {
          "output_type": "stream",
          "name": "stdout",
          "text": [
            "Title: The Lord of the Rings, Author: J.R.R. Tolkien, Year Published: 1954\n"
          ]
        }
      ]
    },
    {
      "cell_type": "code",
      "source": [
        "# 18. Create a class House with attributes address and price. Create a derived class Mansion that adds an\n",
        "#attribute number_of_rooms.\n",
        "\n",
        "class House:\n",
        "    \"\"\"\n",
        "    Represents a house with an address and a price.\n",
        "    \"\"\"\n",
        "    def __init__(self, address, price):\n",
        "        \"\"\"\n",
        "        Initializes a House object.\n",
        "\n",
        "        Args:\n",
        "            address (str): The address of the house.\n",
        "            price (float): The price of the house.\n",
        "        \"\"\"\n",
        "        self.address = address\n",
        "        self.price = price\n",
        "\n",
        "    def get_details(self):\n",
        "        \"\"\"\n",
        "        Returns a formatted string with the house's details.\n",
        "\n",
        "        Returns:\n",
        "            str: A string containing the address and price.\n",
        "        \"\"\"\n",
        "        return f\"Address: {self.address}, Price: ${self.price}\"\n",
        "\n",
        "class Mansion(House):\n",
        "    \"\"\"\n",
        "    Represents a mansion, which is a type of house, with an additional attribute for the number of rooms.\n",
        "    \"\"\"\n",
        "    def __init__(self, address, price, number_of_rooms):\n",
        "        \"\"\"\n",
        "        Initializes a Mansion object.\n",
        "\n",
        "        Args:\n",
        "            address (str): The address of the mansion.\n",
        "            price (float): The price of the mansion.\n",
        "            number_of_rooms (int): The number of rooms in the mansion.\n",
        "        \"\"\"\n",
        "        super().__init__(address, price)  # Call the parent class's constructor\n",
        "        self.number_of_rooms = number_of_rooms\n",
        "\n",
        "    def get_details(self):\n",
        "        \"\"\"\n",
        "        Overrides the get_details method of the House class to include the number of rooms.\n",
        "\n",
        "        Returns:\n",
        "            str: A string containing the address, price, and number of rooms.\n",
        "        \"\"\"\n",
        "        house_details = super().get_details() # Get details from the House class\n",
        "        return f\"{house_details}, Number of Rooms: {self.number_of_rooms}\"\n",
        "\n",
        "# Example Usage:\n",
        "# Create a House object\n",
        "house1 = House(\"123 Main St\", 250000)\n",
        "print(house1.get_details())\n",
        "\n",
        "# Create a Mansion object\n",
        "mansion1 = Mansion(\"456 Luxury Ln\", 1000000, 15)\n",
        "print(mansion1.get_details())\n"
      ],
      "metadata": {
        "colab": {
          "base_uri": "https://localhost:8080/"
        },
        "id": "Zc0MYzu7eOlU",
        "outputId": "87b3541e-8b72-44cd-d3bc-48d419134c1f"
      },
      "execution_count": 38,
      "outputs": [
        {
          "output_type": "stream",
          "name": "stdout",
          "text": [
            "Address: 123 Main St, Price: $250000\n",
            "Address: 456 Luxury Ln, Price: $1000000, Number of Rooms: 15\n"
          ]
        }
      ]
    }
  ]
}